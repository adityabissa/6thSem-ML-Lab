{
  "nbformat": 4,
  "nbformat_minor": 0,
  "metadata": {
    "colab": {
      "provenance": [],
      "authorship_tag": "ABX9TyO/AIIcYjDC/Z1T9s+rGK/L",
      "include_colab_link": true
    },
    "kernelspec": {
      "name": "python3",
      "display_name": "Python 3"
    },
    "language_info": {
      "name": "python"
    }
  },
  "cells": [
    {
      "cell_type": "markdown",
      "metadata": {
        "id": "view-in-github",
        "colab_type": "text"
      },
      "source": [
        "<a href=\"https://colab.research.google.com/github/adityabissa/6thSem-ML-Lab/blob/main/ML_Lab_Exam.ipynb\" target=\"_parent\"><img src=\"https://colab.research.google.com/assets/colab-badge.svg\" alt=\"Open In Colab\"/></a>"
      ]
    },
    {
      "cell_type": "code",
      "execution_count": 7,
      "metadata": {
        "colab": {
          "base_uri": "https://localhost:8080/"
        },
        "id": "fURrQ6zi4WLJ",
        "outputId": "e3451b64-0245-4719-f003-9c8a72c9b08b"
      },
      "outputs": [
        {
          "output_type": "stream",
          "name": "stdout",
          "text": [
            "SVM Model Performance:\n",
            "Accuracy: 1.0000\n",
            "Error Rate: 0.0000\n",
            "MSE: 0.0000\n",
            "RMSE: 0.0000\n",
            "\n",
            "ID3 Model Performance:\n",
            "Accuracy: 0.9778\n",
            "Error Rate: 0.0222\n",
            "MSE: 0.0222\n",
            "RMSE: 0.1491\n",
            "\n",
            "Comparison of the models:\n",
            "SVM outperforms ID3 in terms of accuracy.\n"
          ]
        }
      ],
      "source": [
        "import pandas as pd\n",
        "from sklearn import datasets\n",
        "from sklearn.model_selection import train_test_split\n",
        "from sklearn.svm import SVC\n",
        "from sklearn.tree import DecisionTreeClassifier\n",
        "from sklearn.metrics import accuracy_score, mean_squared_error\n",
        "import numpy as np\n",
        "\n",
        "\n",
        "data = datasets.load_iris()\n",
        "X = data.data\n",
        "y = data.target\n",
        "\n",
        "\n",
        "X_train, X_test, y_train, y_test = train_test_split(X, y, test_size=0.3, random_state=42)\n",
        "\n",
        "\n",
        "svm_model = SVC(kernel='linear', random_state=42)\n",
        "svm_model.fit(X_train, y_train)\n",
        "svm_predictions = svm_model.predict(X_test)\n",
        "\n",
        "svm_accuracy = accuracy_score(y_test, svm_predictions)\n",
        "svm_error_rate = 1 - svm_accuracy\n",
        "\n",
        "\n",
        "svm_mse = mean_squared_error(y_test, svm_predictions)\n",
        "svm_rmse = np.sqrt(svm_mse)\n",
        "\n",
        "\n",
        "id3_model = DecisionTreeClassifier(criterion='entropy', random_state=42)\n",
        "id3_model.fit(X_train, y_train)\n",
        "id3_predictions = id3_model.predict(X_test)\n",
        "\n",
        "\n",
        "id3_accuracy = accuracy_score(y_test, id3_predictions)\n",
        "id3_error_rate = 1 - id3_accuracy\n",
        "\n",
        "id3_mse = mean_squared_error(y_test, id3_predictions)\n",
        "id3_rmse = np.sqrt(id3_mse)\n",
        "\n",
        "print(f\"SVM Model Performance:\")\n",
        "print(f\"Accuracy: {svm_accuracy:.4f}\")\n",
        "print(f\"Error Rate: {svm_error_rate:.4f}\")\n",
        "print(f\"MSE: {svm_mse:.4f}\")\n",
        "print(f\"RMSE: {svm_rmse:.4f}\")\n",
        "\n",
        "print(f\"\\nID3 Model Performance:\")\n",
        "print(f\"Accuracy: {id3_accuracy:.4f}\")\n",
        "print(f\"Error Rate: {id3_error_rate:.4f}\")\n",
        "print(f\"MSE: {id3_mse:.4f}\")\n",
        "print(f\"RMSE: {id3_rmse:.4f}\")\n",
        "\n",
        "print(\"\\nComparison of the models:\")\n",
        "if svm_accuracy > id3_accuracy:\n",
        "    print(\"SVM outperforms ID3 in terms of accuracy.\")\n",
        "else:\n",
        "    print(\"ID3 outperforms SVM in terms of accuracy.\")\n"
      ]
    }
  ]
}