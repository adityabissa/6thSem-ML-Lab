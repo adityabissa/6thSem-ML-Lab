{
  "nbformat": 4,
  "nbformat_minor": 0,
  "metadata": {
    "colab": {
      "provenance": [],
      "authorship_tag": "ABX9TyN/4zj4BRn42l9ZX+WKNQFw",
      "include_colab_link": true
    },
    "kernelspec": {
      "name": "python3",
      "display_name": "Python 3"
    },
    "language_info": {
      "name": "python"
    }
  },
  "cells": [
    {
      "cell_type": "markdown",
      "metadata": {
        "id": "view-in-github",
        "colab_type": "text"
      },
      "source": [
        "<a href=\"https://colab.research.google.com/github/adityabissa/6thSem-ML-Lab/blob/main/1BM22CS016_LAB_11_PCA.ipynb\" target=\"_parent\"><img src=\"https://colab.research.google.com/assets/colab-badge.svg\" alt=\"Open In Colab\"/></a>"
      ]
    },
    {
      "cell_type": "code",
      "execution_count": null,
      "metadata": {
        "colab": {
          "base_uri": "https://localhost:8080/"
        },
        "id": "monvbOaq1Vut",
        "outputId": "aafd359f-5c99-4ad8-a8e1-4e126560ab81"
      },
      "outputs": [
        {
          "output_type": "stream",
          "name": "stdout",
          "text": [
            "Accuracy without PCA: 0.9722\n",
            "Accuracy with PCA (2 components): 0.5389\n"
          ]
        }
      ],
      "source": [
        "from sklearn.datasets import load_digits\n",
        "from sklearn.model_selection import train_test_split\n",
        "from sklearn.preprocessing import StandardScaler\n",
        "from sklearn.linear_model import LogisticRegression\n",
        "from sklearn.decomposition import PCA\n",
        "from sklearn.metrics import accuracy_score\n",
        "\n",
        "# Load dataset\n",
        "digits = load_digits()\n",
        "X, y = digits.data, digits.target\n",
        "\n",
        "# Scaling\n",
        "scaler = StandardScaler()\n",
        "X_scaled = scaler.fit_transform(X)\n",
        "\n",
        "# Train-test split\n",
        "X_train, X_test, y_train, y_test = train_test_split(X_scaled, y, test_size=0.2, random_state=42)\n",
        "\n",
        "# Logistic Regression without PCA\n",
        "lr = LogisticRegression(max_iter=1000)\n",
        "lr.fit(X_train, y_train)\n",
        "preds = lr.predict(X_test)\n",
        "print(f\"Accuracy without PCA: {accuracy_score(y_test, preds):.4f}\")\n",
        "\n",
        "# Apply PCA with 2 components\n",
        "pca = PCA(n_components=2)\n",
        "X_pca = pca.fit_transform(X_scaled)\n",
        "\n",
        "# Split PCA-reduced data\n",
        "X_train_pca, X_test_pca, y_train_pca, y_test_pca = train_test_split(X_pca, y, test_size=0.2, random_state=42)\n",
        "\n",
        "# Logistic Regression with PCA-reduced data\n",
        "lr_pca = LogisticRegression(max_iter=1000)\n",
        "lr_pca.fit(X_train_pca, y_train_pca)\n",
        "preds_pca = lr_pca.predict(X_test_pca)\n",
        "print(f\"Accuracy with PCA (2 components): {accuracy_score(y_test_pca, preds_pca):.4f}\")\n"
      ]
    },
    {
      "cell_type": "code",
      "source": [
        "import pandas as pd\n",
        "import numpy as np\n",
        "from sklearn.preprocessing import StandardScaler\n",
        "from sklearn.model_selection import train_test_split\n",
        "from sklearn.ensemble import RandomForestClassifier\n",
        "from sklearn.linear_model import LogisticRegression\n",
        "from sklearn.svm import SVC\n",
        "from sklearn.metrics import accuracy_score\n",
        "from sklearn.decomposition import PCA\n",
        "from scipy.stats import zscore\n",
        "\n",
        "# Load dataset\n",
        "heart_df = pd.read_csv(\"heart (1).csv\")\n",
        "\n",
        "# Print column names to verify\n",
        "print(\"Column names in dataset:\", heart_df.columns.tolist())\n",
        "\n",
        "# Optional: rename columns if necessary (based on your dataset)\n",
        "# Example only – skip this if your columns are already clean\n",
        "heart_df.columns = [col.strip().lower() for col in heart_df.columns]\n",
        "\n",
        "# Reprint cleaned column names\n",
        "print(\"Cleaned column names:\", heart_df.columns.tolist())\n",
        "\n",
        "# Remove outliers using Z-score\n",
        "z_scores = np.abs(zscore(heart_df.select_dtypes(include=[np.number])))\n",
        "heart_df = heart_df[(z_scores < 3).all(axis=1)]\n",
        "\n",
        "# Determine categorical columns that need encoding\n",
        "categorical_cols = heart_df.select_dtypes(include=['object', 'category']).columns.tolist()\n",
        "\n",
        "# Encode categorical columns using one-hot encoding\n",
        "if categorical_cols:\n",
        "    heart_df = pd.get_dummies(heart_df, columns=categorical_cols, drop_first=True)\n",
        "\n",
        "# Split features and target\n",
        "target_col = 'target' if 'target' in heart_df.columns else heart_df.columns[-1]\n",
        "X = heart_df.drop(target_col, axis=1)\n",
        "y = heart_df[target_col]\n",
        "\n",
        "# Feature scaling\n",
        "scaler = StandardScaler()\n",
        "X_scaled = scaler.fit_transform(X)\n",
        "\n",
        "# Train-test split\n",
        "X_train, X_test, y_train, y_test = train_test_split(X_scaled, y, test_size=0.2, random_state=42)\n",
        "\n",
        "# Models\n",
        "models = {\n",
        "    'Logistic Regression': LogisticRegression(max_iter=1000),\n",
        "    'SVM': SVC(),\n",
        "    'Random Forest': RandomForestClassifier()\n",
        "}\n",
        "\n",
        "print(\"\\nModel Accuracy WITHOUT PCA:\")\n",
        "for name, model in models.items():\n",
        "    model.fit(X_train, y_train)\n",
        "    preds = model.predict(X_test)\n",
        "    print(f\"{name}: {accuracy_score(y_test, preds):.4f}\")\n",
        "\n",
        "# Apply PCA\n",
        "pca = PCA(n_components=5)\n",
        "X_pca = pca.fit_transform(X_scaled)\n",
        "X_train_pca, X_test_pca, y_train_pca, y_test_pca = train_test_split(X_pca, y, test_size=0.2, random_state=42)\n",
        "\n",
        "print(\"\\nModel Accuracy WITH PCA:\")\n",
        "for name, model in models.items():\n",
        "    model.fit(X_train_pca, y_train_pca)\n",
        "    preds = model.predict(X_test_pca)\n",
        "    print(f\"{name}: {accuracy_score(y_test_pca, preds):.4f}\")\n"
      ],
      "metadata": {
        "colab": {
          "base_uri": "https://localhost:8080/"
        },
        "id": "1elB-nhd1gyD",
        "outputId": "cfb654d7-a60a-4372-b053-63f5d111dacd"
      },
      "execution_count": 9,
      "outputs": [
        {
          "output_type": "stream",
          "name": "stdout",
          "text": [
            "Column names in dataset: ['age', 'sex', 'cp', 'trestbps', 'chol', 'fbs', 'restecg', 'thalach', 'exang', 'oldpeak', 'slope', 'ca', 'thal', 'target']\n",
            "Cleaned column names: ['age', 'sex', 'cp', 'trestbps', 'chol', 'fbs', 'restecg', 'thalach', 'exang', 'oldpeak', 'slope', 'ca', 'thal', 'target']\n",
            "\n",
            "Model Accuracy WITHOUT PCA:\n",
            "Logistic Regression: 0.8103\n",
            "SVM: 0.7931\n",
            "Random Forest: 0.7759\n",
            "\n",
            "Model Accuracy WITH PCA:\n",
            "Logistic Regression: 0.8103\n",
            "SVM: 0.8103\n",
            "Random Forest: 0.8276\n"
          ]
        }
      ]
    }
  ]
}